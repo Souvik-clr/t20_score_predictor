{
 "cells": [
  {
   "cell_type": "code",
   "execution_count": null,
   "id": "9145a388",
   "metadata": {},
   "outputs": [],
   "source": [
    "import pandas as pd\n",
    "import pickle\n",
    "import numpy as np\n",
    "df = pickle.load(open('dataset_level2.pkl','rb'))\n"
   ]
  },
  {
   "cell_type": "code",
   "execution_count": null,
   "id": "f40ae82a",
   "metadata": {},
   "outputs": [],
   "source": [
    "df = pickle.load(open('dataset_level2.pkl','rb'))"
   ]
  },
  {
   "cell_type": "code",
   "execution_count": null,
   "id": "e13369a3",
   "metadata": {},
   "outputs": [],
   "source": [
    "df\n",
    "\n",
    "# batting_team\n",
    "# bowling team\n",
    "# city\n",
    "# current score\n",
    "# ball left\n",
    "# wickets left\n",
    "# current rr\n",
    "# last five"
   ]
  },
  {
   "cell_type": "code",
   "execution_count": null,
   "id": "c45aa003",
   "metadata": {},
   "outputs": [],
   "source": [
    "df.isnull().sum()"
   ]
  },
  {
   "cell_type": "code",
   "execution_count": null,
   "id": "2d17a2fe",
   "metadata": {},
   "outputs": [],
   "source": [
    "df[df['city'].isnull()]['venue'].value_counts()"
   ]
  },
  {
   "cell_type": "code",
   "execution_count": null,
   "id": "c18d2167",
   "metadata": {},
   "outputs": [],
   "source": [
    "cities = np.where(df['city'].isnull(),df['venue'].str.split().apply(lambda x:x[0]),df['city'])"
   ]
  },
  {
   "cell_type": "code",
   "execution_count": null,
   "id": "e3167add",
   "metadata": {},
   "outputs": [],
   "source": [
    "df['city'] = cities"
   ]
  },
  {
   "cell_type": "code",
   "execution_count": null,
   "id": "8014ba31",
   "metadata": {},
   "outputs": [],
   "source": [
    "df.isnull().sum()"
   ]
  },
  {
   "cell_type": "code",
   "execution_count": null,
   "id": "0b7339e7",
   "metadata": {},
   "outputs": [],
   "source": [
    "df.drop(columns=['venue'],inplace=True)"
   ]
  },
  {
   "cell_type": "code",
   "execution_count": null,
   "id": "48eb3109",
   "metadata": {},
   "outputs": [],
   "source": [
    "df"
   ]
  },
  {
   "cell_type": "code",
   "execution_count": null,
   "id": "7df24fc2",
   "metadata": {},
   "outputs": [],
   "source": [
    "eligible_cities = df['city'].value_counts()[df['city'].value_counts() > 600].index.tolist()"
   ]
  },
  {
   "cell_type": "code",
   "execution_count": null,
   "id": "35b82a5e",
   "metadata": {},
   "outputs": [],
   "source": [
    "df = df[df['city'].isin(eligible_cities)]"
   ]
  },
  {
   "cell_type": "code",
   "execution_count": null,
   "id": "903a59f1",
   "metadata": {},
   "outputs": [],
   "source": [
    "df"
   ]
  },
  {
   "cell_type": "code",
   "execution_count": null,
   "id": "f7a1b0f3",
   "metadata": {},
   "outputs": [],
   "source": [
    "df['current_score'] = df.groupby('match_id').cumsum()['runs']"
   ]
  },
  {
   "cell_type": "code",
   "execution_count": null,
   "id": "c2ff3e5a",
   "metadata": {},
   "outputs": [],
   "source": [
    "df"
   ]
  },
  {
   "cell_type": "code",
   "execution_count": null,
   "id": "96007fe3",
   "metadata": {},
   "outputs": [],
   "source": [
    "df['over'] = df['ball'].apply(lambda x:str(x).split(\".\")[0])\n",
    "df['ball_no'] = df['ball'].apply(lambda x:str(x).split(\".\")[1])\n",
    "df"
   ]
  },
  {
   "cell_type": "code",
   "execution_count": null,
   "id": "d0e4e740",
   "metadata": {},
   "outputs": [],
   "source": [
    "df['balls_bowled'] = (df['over'].astype('int')*6) + df['ball_no'].astype('int')\n",
    "df"
   ]
  },
  {
   "cell_type": "code",
   "execution_count": null,
   "id": "526f8850",
   "metadata": {},
   "outputs": [],
   "source": [
    "df['balls_left'] = 120 - df['balls_bowled']\n",
    "df['balls_left'] = df['balls_left'].apply(lambda x:0 if x<0 else x)\n",
    "df"
   ]
  },
  {
   "cell_type": "code",
   "execution_count": null,
   "id": "b8fa8a1e",
   "metadata": {},
   "outputs": [],
   "source": [
    "df['player_dismissed'] = df['player_dismissed'].apply(lambda x:0 if x=='0' else 1)\n",
    "df['player_dismissed'] = df['player_dismissed'].astype('int')\n",
    "df['player_dismissed'] = df.groupby('match_id').cumsum()['player_dismissed']\n",
    "df['wickets_left'] = 10 - df['player_dismissed']"
   ]
  },
  {
   "cell_type": "code",
   "execution_count": null,
   "id": "d1e0dd92",
   "metadata": {},
   "outputs": [],
   "source": [
    "df"
   ]
  },
  {
   "cell_type": "code",
   "execution_count": null,
   "id": "12a8d88b",
   "metadata": {},
   "outputs": [],
   "source": [
    "df['crr'] = (df['current_score']*6)/df['balls_bowled']"
   ]
  },
  {
   "cell_type": "code",
   "execution_count": null,
   "id": "5d795f89",
   "metadata": {},
   "outputs": [],
   "source": [
    "df"
   ]
  },
  {
   "cell_type": "code",
   "execution_count": null,
   "id": "7ccf7ba0",
   "metadata": {},
   "outputs": [],
   "source": [
    "groups = df.groupby('match_id')\n",
    "\n",
    "match_ids = df['match_id'].unique()\n",
    "last_five = []\n",
    "for id in match_ids:\n",
    "    last_five.extend(groups.get_group(id).rolling(window=30).sum()['runs'].values.tolist())"
   ]
  },
  {
   "cell_type": "code",
   "execution_count": null,
   "id": "f26cc001",
   "metadata": {},
   "outputs": [],
   "source": [
    "df['last_five'] = last_five"
   ]
  },
  {
   "cell_type": "code",
   "execution_count": null,
   "id": "1faf0cfb",
   "metadata": {},
   "outputs": [],
   "source": [
    "#df[['batting_team','bowling_team','city','current_score','balls_left','wickets_left','crr','last_five','']]"
   ]
  },
  {
   "cell_type": "code",
   "execution_count": null,
   "id": "6fc2c4dd",
   "metadata": {},
   "outputs": [],
   "source": [
    "final_df = df.groupby('match_id').sum()['runs'].reset_index().merge(df,on='match_id')"
   ]
  },
  {
   "cell_type": "code",
   "execution_count": null,
   "id": "c49acf39",
   "metadata": {},
   "outputs": [],
   "source": [
    "final_df=final_df[['batting_team','bowling_team','city','current_score','balls_left','wickets_left','crr','last_five','runs_x']]"
   ]
  },
  {
   "cell_type": "code",
   "execution_count": null,
   "id": "40e68119",
   "metadata": {},
   "outputs": [],
   "source": [
    "final_df.dropna(inplace=True)"
   ]
  },
  {
   "cell_type": "code",
   "execution_count": null,
   "id": "196dd8ee",
   "metadata": {},
   "outputs": [],
   "source": [
    "final_df.isnull().sum()"
   ]
  },
  {
   "cell_type": "code",
   "execution_count": null,
   "id": "b6077ee8",
   "metadata": {},
   "outputs": [],
   "source": [
    "final_df = final_df.sample(final_df.shape[0])"
   ]
  },
  {
   "cell_type": "code",
   "execution_count": null,
   "id": "354bdcff",
   "metadata": {},
   "outputs": [],
   "source": [
    "final_df.sample(2)"
   ]
  },
  {
   "cell_type": "code",
   "execution_count": null,
   "id": "ee59ddb3",
   "metadata": {},
   "outputs": [],
   "source": [
    "X = final_df.drop(columns=['runs_x'])\n",
    "y = final_df['runs_x']\n",
    "from sklearn.model_selection import train_test_split\n",
    "X_train,X_test,y_train,y_test = train_test_split(X,y,test_size=0.2,random_state=1)"
   ]
  },
  {
   "cell_type": "code",
   "execution_count": null,
   "id": "bba21a53",
   "metadata": {},
   "outputs": [],
   "source": [
    "X_train"
   ]
  },
  {
   "cell_type": "code",
   "execution_count": null,
   "id": "12b7d7f4",
   "metadata": {},
   "outputs": [],
   "source": [
    "from sklearn.compose import ColumnTransformer\n",
    "from sklearn.preprocessing import OneHotEncoder\n",
    "from sklearn.pipeline import Pipeline\n",
    "from sklearn.preprocessing import StandardScaler\n",
    "from sklearn.ensemble import RandomForestRegressor\n",
    "from xgboost import XGBRegressor\n",
    "from sklearn.metrics import r2_score,mean_absolute_error"
   ]
  },
  {
   "cell_type": "code",
   "execution_count": null,
   "id": "fe2ad6f6",
   "metadata": {},
   "outputs": [],
   "source": [
    "trf = ColumnTransformer([\n",
    "    ('trf',OneHotEncoder(sparse=False,drop='first'),['batting_team','bowling_team','city'])\n",
    "]\n",
    ",remainder='passthrough')"
   ]
  },
  {
   "cell_type": "code",
   "execution_count": null,
   "id": "a59d7948",
   "metadata": {},
   "outputs": [],
   "source": [
    "pipe = Pipeline(steps=[\n",
    "    ('step1',trf),\n",
    "    ('step2',StandardScaler()),\n",
    "    ('step3',XGBRegressor(n_estimators=1000,learning_rate=0.2,max_depth=12,random_state=1))\n",
    "])"
   ]
  },
  {
   "cell_type": "code",
   "execution_count": null,
   "id": "fdb27848",
   "metadata": {},
   "outputs": [],
   "source": [
    "pipe.fit(X_train,y_train)\n",
    "y_pred = pipe.predict(X_test)\n",
    "print(r2_score(y_test,y_pred))\n",
    "print(mean_absolute_error(y_test,y_pred))"
   ]
  },
  {
   "cell_type": "code",
   "execution_count": null,
   "id": "891ee6ea",
   "metadata": {},
   "outputs": [],
   "source": [
    "pickle.dump(pipe,open('pipe.pkl','wb'))"
   ]
  },
  {
   "cell_type": "code",
   "execution_count": null,
   "id": "04f1ae5b",
   "metadata": {},
   "outputs": [],
   "source": [
    "import xgboost\n",
    "xgboost.__version__"
   ]
  }
 ],
 "metadata": {
  "kernelspec": {
   "display_name": "Python 3 (ipykernel)",
   "language": "python",
   "name": "python3"
  },
  "language_info": {
   "codemirror_mode": {
    "name": "ipython",
    "version": 3
   },
   "file_extension": ".py",
   "mimetype": "text/x-python",
   "name": "python",
   "nbconvert_exporter": "python",
   "pygments_lexer": "ipython3",
   "version": "3.9.12"
  }
 },
 "nbformat": 4,
 "nbformat_minor": 5
}
